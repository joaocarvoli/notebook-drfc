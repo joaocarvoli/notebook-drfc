{
 "cells": [
  {
   "cell_type": "markdown",
   "id": "ce4138d8eb1ffd1f",
   "metadata": {
    "collapsed": false,
    "jupyter": {
     "outputs_hidden": false
    }
   },
   "source": [
    "# Pipelines\n",
    "\n",
    "..."
   ]
  },
  {
   "cell_type": "code",
   "execution_count": 1,
   "id": "b3aea72355dabd56",
   "metadata": {
    "ExecuteTime": {
     "end_time": "2024-05-13T20:06:36.176661Z",
     "start_time": "2024-05-13T20:06:33.560594Z"
    },
    "collapsed": false,
    "jupyter": {
     "outputs_hidden": false
    }
   },
   "outputs": [],
   "source": [
    "%reload_ext dotenv\n",
    "%dotenv\n",
    "\n",
    "from drfc_manager.training_pipeline import train_pipeline\n",
    "import io\n",
    "\n",
    "from drfc_manager.types_built.hyperparameters import HyperParameters\n",
    "from drfc_manager.types_built.model_metadata import ModelMetadata"
   ]
  },
  {
   "cell_type": "markdown",
   "id": "6dec1b39c2f9396d",
   "metadata": {
    "collapsed": false,
    "jupyter": {
     "outputs_hidden": false
    }
   },
   "source": [
    "## Training"
   ]
  },
  {
   "cell_type": "markdown",
   "id": "6bcc3da2f699adf1",
   "metadata": {
    "collapsed": false,
    "jupyter": {
     "outputs_hidden": false
    }
   },
   "source": [
    "### Model metadata and Hyperparameters"
   ]
  },
  {
   "cell_type": "code",
   "execution_count": 2,
   "id": "38ebab776b5fc27b",
   "metadata": {
    "ExecuteTime": {
     "end_time": "2024-05-13T20:06:36.190464Z",
     "start_time": "2024-05-13T20:06:36.181382Z"
    },
    "collapsed": false,
    "jupyter": {
     "outputs_hidden": false
    }
   },
   "outputs": [],
   "source": [
    "# Setup\n",
    "model_name = 'rl-deepracer-sagemaker-2'\n",
    "hyperparameters = HyperParameters()\n",
    "model_metadata = ModelMetadata()"
   ]
  },
  {
   "cell_type": "markdown",
   "id": "b312152f532ff9af",
   "metadata": {
    "collapsed": false,
    "jupyter": {
     "outputs_hidden": false
    }
   },
   "source": [
    "### Reward function\n",
    "When you executed the bellow cell the reward all content will be placed into your reward function, ensures that this cell has all dependencies that you need to run your function"
   ]
  },
  {
   "cell_type": "code",
   "execution_count": 3,
   "id": "b6d3e9876a66dc09",
   "metadata": {
    "ExecuteTime": {
     "end_time": "2024-05-13T20:06:36.200827Z",
     "start_time": "2024-05-13T20:06:36.192821Z"
    },
    "collapsed": false,
    "jupyter": {
     "outputs_hidden": false
    }
   },
   "outputs": [
    {
     "name": "stdout",
     "output_type": "stream",
     "text": [
      "Overwriting reward_function.py\n"
     ]
    }
   ],
   "source": [
    "%%writefile reward_function.py\n",
    "\n",
    "def reward_function(params):\n",
    "    reward = 2\n",
    "    return float(reward)"
   ]
  },
  {
   "cell_type": "code",
   "execution_count": 4,
   "id": "38deef2bd9ccfd58",
   "metadata": {
    "ExecuteTime": {
     "end_time": "2024-05-13T20:06:36.208312Z",
     "start_time": "2024-05-13T20:06:36.202921Z"
    },
    "collapsed": false,
    "jupyter": {
     "outputs_hidden": false
    }
   },
   "outputs": [],
   "source": [
    "# Loading reward function file saved\n",
    "with open(\"reward_function.py\", \"rb\") as fh:\n",
    "    bytes_io_reward_function = io.BytesIO(fh.read())"
   ]
  },
  {
   "cell_type": "markdown",
   "id": "16e85c5df6f7aa88",
   "metadata": {
    "collapsed": false,
    "jupyter": {
     "outputs_hidden": false
    }
   },
   "source": [
    "## Pipeline"
   ]
  },
  {
   "cell_type": "code",
   "execution_count": 5,
   "id": "f9926cb8df11dd09",
   "metadata": {
    "ExecuteTime": {
     "end_time": "2024-05-13T20:08:54.964513Z",
     "start_time": "2024-05-13T20:08:47.398086Z"
    },
    "collapsed": false,
    "jupyter": {
     "outputs_hidden": false
    }
   },
   "outputs": [
    {
     "name": "stdout",
     "output_type": "stream",
     "text": [
      "Data upload successfully to custom files\n",
      "The reward function copied successfully to models folder at rl-deepracer-sagemaker-2/reward_function.py\n",
      "Upload successfully the RoboMaker training configurations\n"
     ]
    }
   ],
   "source": [
    "train_pipeline(model_name, hyperparameters, model_metadata, bytes_io_reward_function, overwrite=True)"
   ]
  }
 ],
 "metadata": {
  "kernelspec": {
   "display_name": "Python 3 (ipykernel)",
   "language": "python",
   "name": "python3"
  },
  "language_info": {
   "codemirror_mode": {
    "name": "ipython",
    "version": 3
   },
   "file_extension": ".py",
   "mimetype": "text/x-python",
   "name": "python",
   "nbconvert_exporter": "python",
   "pygments_lexer": "ipython3",
   "version": "3.11.9"
  }
 },
 "nbformat": 4,
 "nbformat_minor": 5
}
