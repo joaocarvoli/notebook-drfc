{
 "cells": [
  {
   "cell_type": "markdown",
   "source": [
    "# Pipelines\n",
    "\n",
    "..."
   ],
   "metadata": {
    "collapsed": false
   },
   "id": "ce4138d8eb1ffd1f"
  },
  {
   "cell_type": "code",
   "outputs": [],
   "source": [
    "%reload_ext dotenv\n",
    "%dotenv\n",
    "\n",
    "from pipelines.training_pipeline import train_pipeline\n",
    "import io\n",
    "\n",
    "from pipelines.types_built.hyperparameters import HyperParameters\n",
    "from pipelines.types_built.model_metadata import ModelMetadata"
   ],
   "metadata": {
    "collapsed": false,
    "ExecuteTime": {
     "end_time": "2024-05-13T20:06:36.176661Z",
     "start_time": "2024-05-13T20:06:33.560594Z"
    }
   },
   "id": "b3aea72355dabd56",
   "execution_count": 1
  },
  {
   "cell_type": "markdown",
   "source": [
    "## Training"
   ],
   "metadata": {
    "collapsed": false
   },
   "id": "6dec1b39c2f9396d"
  },
  {
   "cell_type": "markdown",
   "source": [
    "### Model metadata and Hyperparameters"
   ],
   "metadata": {
    "collapsed": false
   },
   "id": "6bcc3da2f699adf1"
  },
  {
   "cell_type": "code",
   "outputs": [],
   "source": [
    "# Setup\n",
    "hyperparameters = HyperParameters()\n",
    "model_metadata = ModelMetadata()"
   ],
   "metadata": {
    "collapsed": false,
    "ExecuteTime": {
     "end_time": "2024-05-13T20:06:36.190464Z",
     "start_time": "2024-05-13T20:06:36.181382Z"
    }
   },
   "id": "38ebab776b5fc27b",
   "execution_count": 2
  },
  {
   "cell_type": "markdown",
   "source": [
    "### Reward function\n",
    "When you executed the bellow cell the reward all content will be placed into your reward function, ensures that this cell has all dependencies that you need to run your function"
   ],
   "metadata": {
    "collapsed": false
   },
   "id": "b312152f532ff9af"
  },
  {
   "cell_type": "code",
   "outputs": [
    {
     "name": "stdout",
     "output_type": "stream",
     "text": [
      "Overwriting reward_function.py\n"
     ]
    }
   ],
   "source": [
    "%%writefile reward_function.py\n",
    "\n",
    "def reward_function(params):\n",
    "    reward = 2\n",
    "    return float(reward)"
   ],
   "metadata": {
    "collapsed": false,
    "ExecuteTime": {
     "end_time": "2024-05-13T20:06:36.200827Z",
     "start_time": "2024-05-13T20:06:36.192821Z"
    }
   },
   "id": "b6d3e9876a66dc09",
   "execution_count": 3
  },
  {
   "cell_type": "code",
   "outputs": [],
   "source": [
    "# Loading reward function file saved\n",
    "with open(\"reward_function.py\", \"rb\") as fh:\n",
    "    bytes_io_reward_function = io.BytesIO(fh.read())"
   ],
   "metadata": {
    "collapsed": false,
    "ExecuteTime": {
     "end_time": "2024-05-13T20:06:36.208312Z",
     "start_time": "2024-05-13T20:06:36.202921Z"
    }
   },
   "id": "38deef2bd9ccfd58",
   "execution_count": 4
  },
  {
   "cell_type": "markdown",
   "source": [
    "## Pipeline"
   ],
   "metadata": {
    "collapsed": false
   },
   "id": "16e85c5df6f7aa88"
  },
  {
   "cell_type": "code",
   "outputs": [
    {
     "name": "stdout",
     "output_type": "stream",
     "text": [
      "hiii\n"
     ]
    }
   ],
   "source": [
    "train_pipeline(hyperparameters, model_metadata, bytes_io_reward_function)"
   ],
   "metadata": {
    "collapsed": false,
    "ExecuteTime": {
     "end_time": "2024-05-13T20:08:54.964513Z",
     "start_time": "2024-05-13T20:08:47.398086Z"
    }
   },
   "id": "f9926cb8df11dd09",
   "execution_count": 7
  }
 ],
 "metadata": {
  "kernelspec": {
   "display_name": "Python 3",
   "language": "python",
   "name": "python3"
  },
  "language_info": {
   "codemirror_mode": {
    "name": "ipython",
    "version": 2
   },
   "file_extension": ".py",
   "mimetype": "text/x-python",
   "name": "python",
   "nbconvert_exporter": "python",
   "pygments_lexer": "ipython2",
   "version": "2.7.6"
  }
 },
 "nbformat": 4,
 "nbformat_minor": 5
}
